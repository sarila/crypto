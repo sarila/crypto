{
  "nbformat": 4,
  "nbformat_minor": 0,
  "metadata": {
    "colab": {
      "name": "Morsecode Translator",
      "provenance": [],
      "collapsed_sections": [],
      "authorship_tag": "ABX9TyNKRD7d4cETpOW8oxHmpvw5",
      "include_colab_link": true
    },
    "kernelspec": {
      "name": "python3",
      "display_name": "Python 3"
    }
  },
  "cells": [
    {
      "cell_type": "markdown",
      "metadata": {
        "id": "view-in-github",
        "colab_type": "text"
      },
      "source": [
        "<a href=\"https://colab.research.google.com/github/sarila/cryptography/blob/master/Morsecode_Translator.ipynb\" target=\"_parent\"><img src=\"https://colab.research.google.com/assets/colab-badge.svg\" alt=\"Open In Colab\"/></a>"
      ]
    },
    {
      "cell_type": "code",
      "metadata": {
        "id": "WyMexYlr9UgX",
        "colab_type": "code",
        "colab": {
          "base_uri": "https://localhost:8080/",
          "height": 68
        },
        "outputId": "6b545fdd-7381-4fd5-e11a-2def98101f25"
      },
      "source": [
        "textdist = {\n",
        "\t\"A\" : \".-\", \"B\" : \"-...\", \"C\" : \"-.-.\", \"D\":\"-..\",\n",
        "\t\"E\":\".\", \"F\":\"..-.\", \"G\":\"--.\", \"H\":\"....\", \"I\":\"..\",\n",
        "\t\"J\":\".---\", \"K\":\"-.-\", \"L\":\".-..\", \"M\":\"--\", \"N\":\"-.\",\n",
        "\t\"O\":\"---\", \"P\":\".--.\", \"Q\":\"--.-\", \"R\":\".-.\", \"S\":\"...\",\n",
        "\t\"T\":\"-\", \"U\":\"..-\", \"V\":\"...-\", \"W\":\".--\", \"X\":\"-..-\",\n",
        "\t\"Y\":\"-.--\", \"Z\":\"--..\", \"1\":\".----\", \"2\":\"..---\", \"3\":\"...--\", \"4\":\"....-\",\n",
        "\t\"5\":\".....\", \"6\":\"-....\", \"7\":\"--...\", \"8\":\"---..\", \"9\":\"----.\", \"0\": \"-----\",\n",
        "\t\".\":\".-.-.-\", \",\":\"--..--\", \"?\":\"..--..\", \"/\":\"-..-.\", \"@\":\".--.-.\"\n",
        "}\n",
        "plain = input(\"Enter the text:\")\n",
        "print(\"given text input is \"+plain)\n",
        "text = plain.upper()\n",
        "print(text)"
      ],
      "execution_count": 1,
      "outputs": [
        {
          "output_type": "stream",
          "text": [
            "Enter the text:sarila\n",
            "given text input is sarila\n",
            "SARILA\n"
          ],
          "name": "stdout"
        }
      ]
    },
    {
      "cell_type": "code",
      "metadata": {
        "id": "7kezYAOc9fgx",
        "colab_type": "code",
        "colab": {}
      },
      "source": [
        "def encrypt(message):\n",
        "    cipher= ''\n",
        "    for letter in message:\n",
        "        if letter!=' ':\n",
        "            cipher+= textdist[letter]+' '\n",
        "        else:\n",
        "            cipher+='  '\n",
        "    return(cipher)\n",
        "            "
      ],
      "execution_count": 0,
      "outputs": []
    },
    {
      "cell_type": "code",
      "metadata": {
        "id": "JHU035dE9pww",
        "colab_type": "code",
        "colab": {
          "base_uri": "https://localhost:8080/",
          "height": 34
        },
        "outputId": "61d23d51-0e48-4f66-914b-73e8a5c53b17"
      },
      "source": [
        "morse= encrypt(text)\n",
        "print(morse)"
      ],
      "execution_count": 3,
      "outputs": [
        {
          "output_type": "stream",
          "text": [
            "... .- .-. .. .-.. .- \n"
          ],
          "name": "stdout"
        }
      ]
    },
    {
      "cell_type": "code",
      "metadata": {
        "id": "DovyDnzY9tXO",
        "colab_type": "code",
        "colab": {}
      },
      "source": [
        "def decrypt(message):\n",
        "    message+=' '\n",
        "    print(message)\n",
        "    plain= ''\n",
        "    decipher = '' \n",
        "    citext = '' \n",
        "    for letter in message: \n",
        "  \n",
        "        # checks for space \n",
        "        if (letter!=' '): \n",
        "  \n",
        "            # counter to keep track of space \n",
        "            i = 0\n",
        "  \n",
        "            # storing morse code of a single character \n",
        "            citext += letter\n",
        "  \n",
        "        # in case of space \n",
        "        else: \n",
        "            # if i = 1 that indicates a new character \n",
        "            i+=1\n",
        "  \n",
        "            # if i = 2 that indicates a new word \n",
        "            if i == 2 : \n",
        "  \n",
        "                 # adding space to separate words \n",
        "                decipher +=' '\n",
        "            else: \n",
        "                # accessing the keys using their values \n",
        "                decipher += list(textdist.keys())[list(textdist.values()).index(citext)]\n",
        "                citext = ''\n",
        "                \n",
        "  \n",
        "    return decipher "
      ],
      "execution_count": 0,
      "outputs": []
    },
    {
      "cell_type": "code",
      "metadata": {
        "id": "4lxcjGwY9v7w",
        "colab_type": "code",
        "colab": {
          "base_uri": "https://localhost:8080/",
          "height": 51
        },
        "outputId": "105f906a-d78d-4473-c702-3f751358120e"
      },
      "source": [
        "code='.- .. .-..  .-  -. ... . .-. ---' #for manual entry of morse code\n",
        "mm = decrypt(code)\n",
        "print(mm)"
      ],
      "execution_count": 10,
      "outputs": [
        {
          "output_type": "stream",
          "text": [
            ".- .. .-..  .-  -. ... . .-. --- \n",
            "AIL A NSERO\n"
          ],
          "name": "stdout"
        }
      ]
    },
    {
      "cell_type": "code",
      "metadata": {
        "id": "0uaijjGy9zAa",
        "colab_type": "code",
        "colab": {}
      },
      "source": [
        ""
      ],
      "execution_count": 0,
      "outputs": []
    }
  ]
}